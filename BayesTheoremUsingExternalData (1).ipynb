{
 "cells": [
  {
   "cell_type": "code",
   "execution_count": 1,
   "id": "3c8ff34c",
   "metadata": {},
   "outputs": [],
   "source": [
    "import pandas as pd\n",
    "import numpy as np\n",
    "\n",
    "# Read all values from the excel file at once\n",
    "df = pd.read_excel(r'C:\\Users\\nickr\\Untitled Folder 2\\testindex.xlsx', header=None, names=[\"A\", \"B\", \"C\", \"D\", \"E\", \"F\", \"G\"])"
   ]
  },
  {
   "cell_type": "code",
   "execution_count": 5,
   "id": "32d7c93b",
   "metadata": {},
   "outputs": [],
   "source": [
    "# Convert values to probabilities and store them in variables\n",
    "prob_pop = df.iloc[0][\"A\"] / 1000000\n",
    "prob_ill = df.iloc[0][\"B\"] / 1000000\n",
    "prob_pos_given_ill = df.iloc[0][\"C\"] / 10000\n",
    "prob_neg_given_ill = df.iloc[0][\"D\"] / 10000\n",
    "prob_healthy = df.iloc[0][\"E\"] / 10000\n",
    "prob_neg_given_healthy = df.iloc[0][\"F\"] / 9900\n",
    "prob_pos_given_healthy= df.iloc[0][\"G\"] / 9900"
   ]
  },
  {
   "cell_type": "code",
   "execution_count": 6,
   "id": "3d06ff0e",
   "metadata": {},
   "outputs": [
    {
     "name": "stdout",
     "output_type": "stream",
     "text": [
      "0.0198\n",
      "0.5\n"
     ]
    }
   ],
   "source": [
    "#Solve for the probability that someone tests positive given that they are ill\n",
    "#model it with the equation p(ill|pos) = p(pos|ill) * p(ill) / p(pos)\n",
    "\n",
    "def bayestheorem(pBA, pA, pB):\n",
    "    return pBA * pA / pB\n",
    "\n",
    "def probB(pA, pAB, pB, pBA):\n",
    "    return pAB * pA + pBA * pB\n",
    "\n",
    "# Calculate p(pos) using the probB function\n",
    "prob_pos = probB(prob_healthy, prob_neg_given_ill, prob_ill, prob_pos_given_ill)\n",
    "print(prob_pos)\n",
    "\n",
    "# Calculate p(ill|pos) using Bayes' theorem\n",
    "prob_ill_given_pos = bayestheorem(Cpos, Ill, prob_pos)\n",
    "print(prob_ill_given_pos)"
   ]
  }
 ],
 "metadata": {
  "kernelspec": {
   "display_name": "Python 3 (ipykernel)",
   "language": "python",
   "name": "python3"
  },
  "language_info": {
   "codemirror_mode": {
    "name": "ipython",
    "version": 3
   },
   "file_extension": ".py",
   "mimetype": "text/x-python",
   "name": "python",
   "nbconvert_exporter": "python",
   "pygments_lexer": "ipython3",
   "version": "3.9.12"
  }
 },
 "nbformat": 4,
 "nbformat_minor": 5
}
